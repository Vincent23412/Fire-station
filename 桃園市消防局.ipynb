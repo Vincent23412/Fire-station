{
 "cells": [
  {
   "cell_type": "code",
   "execution_count": 13,
   "id": "87f5c641",
   "metadata": {},
   "outputs": [
    {
     "name": "stdout",
     "output_type": "stream",
     "text": [
      "總數: 50\n",
      "受理火災案件數    219\n",
      "直線雲梯消防車     26\n",
      "屈折雲梯消防車      7\n",
      "化學消防車        9\n",
      "水箱消防車      696\n",
      "水庫消防車      165\n",
      "泡沫消防車        0\n",
      "幫浦消防車       13\n",
      "超高壓消防車       0\n",
      "救助器材車        0\n",
      "排煙車          3\n",
      "照明車          8\n",
      "空氣壓縮車       24\n",
      "救災指揮車        4\n",
      "水陸兩用車        0\n",
      "災情勘查車        1\n",
      "化災處理車        0\n",
      "火災現場勘驗車      1\n",
      "消防警備車        0\n",
      "消防救災越野車      0\n",
      "消防救災機車       0\n",
      "緊急修護車        0\n",
      "一般型救謢車     106\n",
      "加謢型救謢車       0\n",
      "其他           9\n",
      "直升機          0\n",
      "dtype: object\n",
      "\n",
      "經常發生火災的數量: 28\n",
      "受理火災案件數    205\n",
      "直線雲梯消防車     22\n",
      "屈折雲梯消防車      7\n",
      "化學消防車        8\n",
      "水箱消防車      577\n",
      "水庫消防車      143\n",
      "泡沫消防車        0\n",
      "幫浦消防車        1\n",
      "超高壓消防車       0\n",
      "救助器材車        0\n",
      "排煙車          3\n",
      "照明車          0\n",
      "空氣壓縮車        4\n",
      "救災指揮車        0\n",
      "水陸兩用車        0\n",
      "災情勘查車        0\n",
      "化災處理車        0\n",
      "火災現場勘驗車      0\n",
      "消防警備車        0\n",
      "消防救災越野車      0\n",
      "消防救災機車       0\n",
      "緊急修護車        0\n",
      "一般型救謢車      93\n",
      "加謢型救謢車       0\n",
      "其他           0\n",
      "直升機          0\n",
      "dtype: object\n",
      "\n",
      "資源差距\n",
      "一般型救謢車      13\n",
      "其他           9\n",
      "加謢型救謢車       0\n",
      "化學消防車        1\n",
      "化災處理車        0\n",
      "受理火災案件數     14\n",
      "大隊分隊       NaN\n",
      "屈折雲梯消防車      0\n",
      "幫浦消防車       12\n",
      "排煙車          0\n",
      "救助器材車        0\n",
      "救災指揮車        4\n",
      "水庫消防車       22\n",
      "水箱消防車      119\n",
      "水陸兩用車        0\n",
      "泡沫消防車        0\n",
      "消防救災機車       0\n",
      "消防救災越野車      0\n",
      "消防警備車        0\n",
      "火災現場勘驗車      1\n",
      "災情勘查車        1\n",
      "照明車          8\n",
      "直升機          0\n",
      "直線雲梯消防車      4\n",
      "空氣壓縮車       20\n",
      "緊急修護車        0\n",
      "超高壓消防車       0\n",
      "dtype: object\n"
     ]
    }
   ],
   "source": [
    "import pandas as pd\n",
    "heli = pd.read_csv(\"C:/Users/asd11/Downloads/桃園市火災出動直升機統計_11105.csv\")\n",
    "car = pd.read_csv(\"C:/Users/asd11/Downloads/桃園市火災出動車輛統計_11105.csv\")\n",
    "\n",
    "data_1 = pd.merge(car,heli)\n",
    "\n",
    "Sum_1 = data_1.sum()\n",
    "Sum_1 = Sum_1.drop('大隊分隊')\n",
    "print('總數:',len(data_1))\n",
    "print(Sum_1)\n",
    "print()\n",
    "\n",
    "data_2 = data_1[data_1['受理火災案件數']>3]\n",
    "\n",
    "Sum_2 = data_2.sum()\n",
    "num_2 = Sum_2.drop('大隊分隊')\n",
    "print('經常發生火災的數量:',len(data_2))\n",
    "print(num_2)\n",
    "print()\n",
    "\n",
    "print('資源差距')\n",
    "print(Sum_1 - Sum_2)"
   ]
  },
  {
   "cell_type": "code",
   "execution_count": 45,
   "id": "4552f008",
   "metadata": {},
   "outputs": [
    {
     "data": {
      "image/png": "[encoded data removed]",
      "text/plain": [
       "<Figure size 432x288 with 1 Axes>"
      ]
     },
     "metadata": {
      "needs_background": "light"
     },
     "output_type": "display_data"
    }
   ],
   "source": [
    "from matplotlib.font_manager import FontProperties\n",
    "import matplotlib.pyplot as plt\n",
    "\n",
    "font = FontProperties(fname=r'NotoSansTC-Black.otf')\n",
    "num_1 = len(data_1)\n",
    "num_2 = len(data_2)\n",
    "plt.title('全部消防局  vs  常發生火災的消防局',fontproperties=font)\n",
    "plt.bar(('all','frequency'),(num_1,num_2))\n",
    "plt.show()\n"
   ]
  },
  {
   "cell_type": "code",
   "execution_count": 46,
   "id": "9940787e",
   "metadata": {},
   "outputs": [
    {
     "data": {
      "image/png": "[encoded data removed]",
      "text/plain": [
       "<Figure size 432x288 with 1 Axes>"
      ]
     },
     "metadata": {
      "needs_background": "light"
     },
     "output_type": "display_data"
    }
   ],
   "source": [
    "time_1 = Sum_1['受理火災案件數']\n",
    "time_2 = Sum_2['受理火災案件數']\n",
    "plt.title('全部消防局  vs  常發生火災的消防局',fontproperties=font)\n",
    "plt.bar(('all','frequency'),(time_1,time_2))\n",
    "plt.show()"
   ]
  },
  {
   "cell_type": "code",
   "execution_count": 49,
   "id": "9abae6e2",
   "metadata": {},
   "outputs": [
    {
     "name": "stdout",
     "output_type": "stream",
     "text": [
      "696 577\n"
     ]
    },
    {
     "data": {
      "image/png": "[encoded data removed]",
      "text/plain": [
       "<Figure size 432x288 with 1 Axes>"
      ]
     },
     "metadata": {
      "needs_background": "light"
     },
     "output_type": "display_data"
    }
   ],
   "source": [
    "fire_truck_1 = Sum_1['水箱消防車']\n",
    "fire_truck_2 = Sum_2['水箱消防車']\n",
    "print(fire_truck_1,fire_truck_2)\n",
    "plt.title('全部消防局  vs  常發生火災的消防局',fontproperties=font)\n",
    "plt.bar(('all','frequency'),(fire_truck_1,fire_truck_2))\n",
    "plt.show()"
   ]
  }
 ],
 "metadata": {
  "kernelspec": {
   "display_name": "Python 3",
   "language": "python",
   "name": "python3"
  },
  "language_info": {
   "codemirror_mode": {
    "name": "ipython",
    "version": 3
   },
   "file_extension": ".py",
   "mimetype": "text/x-python",
   "name": "python",
   "nbconvert_exporter": "python",
   "pygments_lexer": "ipython3",
   "version": "3.8.8"
  }
 },
 "nbformat": 4,
 "nbformat_minor": 5
}
